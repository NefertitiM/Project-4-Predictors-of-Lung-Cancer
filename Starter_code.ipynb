{
 "cells": [
  {
   "cell_type": "code",
   "execution_count": 10,
   "id": "08211efb-bf4f-4b13-b806-e3b7eabb0119",
   "metadata": {},
   "outputs": [],
   "source": [
    "# Set dependencies\n",
    "import requests\n",
    "import pandas as pd"
   ]
  },
  {
   "cell_type": "code",
   "execution_count": 11,
   "id": "97dba46e-e3ef-4b2e-8519-6a8c5ff79fe5",
   "metadata": {},
   "outputs": [],
   "source": [
    "# Set JSON source and request\n",
    "url = \"https://data.cdc.gov/resource/96sd-hxdt.json?$query=SELECT%20%60statefips%60%2C%20avg(%60ds_pm_pred%60)%20AS%20%60avg_ds_pm_pred%60%2C%20%60year%60%0AGROUP%20BY%20%60statefips%60%2C%20%60year%60\"\n",
    "response = requests.get(url)"
   ]
  },
  {
   "cell_type": "code",
   "execution_count": 12,
   "id": "91244d80-5ac9-480d-96f1-efc9abd1a44d",
   "metadata": {},
   "outputs": [],
   "source": [
    "# Import JSON data with error check\n",
    "if response.status_code == 200:\n",
    "    PM25byState = response.json()\n",
    "else:\n",
    "    raise Exception(\"Failed to fetch data from the API\")"
   ]
  },
  {
   "cell_type": "code",
   "execution_count": 13,
   "id": "1dfb72e0-570d-44d4-a301-96d489600670",
   "metadata": {},
   "outputs": [
    {
     "data": {
      "text/plain": [
       "245"
      ]
     },
     "execution_count": 13,
     "metadata": {},
     "output_type": "execute_result"
    }
   ],
   "source": [
    "# Set measure to ensure JSON pull is less than the limit allowed by CDC API (i.e. <=1000)\n",
    "len(PM25byState)"
   ]
  },
  {
   "cell_type": "code",
   "execution_count": 14,
   "id": "522045d1",
   "metadata": {},
   "outputs": [],
   "source": [
    "# Create dataframe from imported data\n",
    "PM25byState_df = pd.DataFrame(PM25byState)"
   ]
  },
  {
   "cell_type": "code",
   "execution_count": 15,
   "id": "adcf2940",
   "metadata": {},
   "outputs": [
    {
     "data": {
      "text/html": [
       "<div>\n",
       "<style scoped>\n",
       "    .dataframe tbody tr th:only-of-type {\n",
       "        vertical-align: middle;\n",
       "    }\n",
       "\n",
       "    .dataframe tbody tr th {\n",
       "        vertical-align: top;\n",
       "    }\n",
       "\n",
       "    .dataframe thead th {\n",
       "        text-align: right;\n",
       "    }\n",
       "</style>\n",
       "<table border=\"1\" class=\"dataframe\">\n",
       "  <thead>\n",
       "    <tr style=\"text-align: right;\">\n",
       "      <th></th>\n",
       "      <th>statefips</th>\n",
       "      <th>avg_ds_pm_pred</th>\n",
       "      <th>year</th>\n",
       "    </tr>\n",
       "  </thead>\n",
       "  <tbody>\n",
       "    <tr>\n",
       "      <th>0</th>\n",
       "      <td>1</td>\n",
       "      <td>9.7253863786574711</td>\n",
       "      <td>2016</td>\n",
       "    </tr>\n",
       "    <tr>\n",
       "      <th>1</th>\n",
       "      <td>1</td>\n",
       "      <td>9.3187528553336354</td>\n",
       "      <td>2017</td>\n",
       "    </tr>\n",
       "    <tr>\n",
       "      <th>2</th>\n",
       "      <td>1</td>\n",
       "      <td>8.9118843575354085</td>\n",
       "      <td>2018</td>\n",
       "    </tr>\n",
       "    <tr>\n",
       "      <th>3</th>\n",
       "      <td>1</td>\n",
       "      <td>9.1673524997966700</td>\n",
       "      <td>2019</td>\n",
       "    </tr>\n",
       "    <tr>\n",
       "      <th>4</th>\n",
       "      <td>1</td>\n",
       "      <td>8.7303361112061786</td>\n",
       "      <td>2020</td>\n",
       "    </tr>\n",
       "    <tr>\n",
       "      <th>...</th>\n",
       "      <td>...</td>\n",
       "      <td>...</td>\n",
       "      <td>...</td>\n",
       "    </tr>\n",
       "    <tr>\n",
       "      <th>240</th>\n",
       "      <td>9</td>\n",
       "      <td>7.1726999372804155</td>\n",
       "      <td>2016</td>\n",
       "    </tr>\n",
       "    <tr>\n",
       "      <th>241</th>\n",
       "      <td>9</td>\n",
       "      <td>6.4590581125964605</td>\n",
       "      <td>2017</td>\n",
       "    </tr>\n",
       "    <tr>\n",
       "      <th>242</th>\n",
       "      <td>9</td>\n",
       "      <td>7.3704599467918106</td>\n",
       "      <td>2018</td>\n",
       "    </tr>\n",
       "    <tr>\n",
       "      <th>243</th>\n",
       "      <td>9</td>\n",
       "      <td>7.2835365996331609</td>\n",
       "      <td>2019</td>\n",
       "    </tr>\n",
       "    <tr>\n",
       "      <th>244</th>\n",
       "      <td>9</td>\n",
       "      <td>7.6652247058896336</td>\n",
       "      <td>2020</td>\n",
       "    </tr>\n",
       "  </tbody>\n",
       "</table>\n",
       "<p>245 rows × 3 columns</p>\n",
       "</div>"
      ],
      "text/plain": [
       "    statefips      avg_ds_pm_pred  year\n",
       "0           1  9.7253863786574711  2016\n",
       "1           1  9.3187528553336354  2017\n",
       "2           1  8.9118843575354085  2018\n",
       "3           1  9.1673524997966700  2019\n",
       "4           1  8.7303361112061786  2020\n",
       "..        ...                 ...   ...\n",
       "240         9  7.1726999372804155  2016\n",
       "241         9  6.4590581125964605  2017\n",
       "242         9  7.3704599467918106  2018\n",
       "243         9  7.2835365996331609  2019\n",
       "244         9  7.6652247058896336  2020\n",
       "\n",
       "[245 rows x 3 columns]"
      ]
     },
     "execution_count": 15,
     "metadata": {},
     "output_type": "execute_result"
    }
   ],
   "source": [
    "# Display dataframe for review\n",
    "PM25byState_df"
   ]
  },
  {
   "cell_type": "code",
   "execution_count": 16,
   "id": "0f495e25",
   "metadata": {},
   "outputs": [],
   "source": [
    "# Save dataframe to CSV for BI/Tableau analysis\n",
    "PM25byState_df.to_csv(\"Resources/PM25byState.csv\", index=False)"
   ]
  }
 ],
 "metadata": {
  "kernelspec": {
   "display_name": "Python 3 (ipykernel)",
   "language": "python",
   "name": "python3"
  },
  "language_info": {
   "codemirror_mode": {
    "name": "ipython",
    "version": 3
   },
   "file_extension": ".py",
   "mimetype": "text/x-python",
   "name": "python",
   "nbconvert_exporter": "python",
   "pygments_lexer": "ipython3",
   "version": "3.12.4"
  }
 },
 "nbformat": 4,
 "nbformat_minor": 5
}
